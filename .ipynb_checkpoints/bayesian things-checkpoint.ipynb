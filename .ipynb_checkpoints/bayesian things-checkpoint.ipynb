{
 "cells": [
  {
   "cell_type": "code",
   "execution_count": null,
   "id": "fc373aa0",
   "metadata": {},
   "outputs": [],
   "source": [
    "import pickle\n",
    "import random\n",
    "from sklearn.linear_model import LinearRegression\n",
    "\n",
    "import networkx as nx\n",
    "import numpy as np\n",
    "\n",
    "from agents import misinfoAgent\n",
    "from misinfo_functions import (\n",
    "    generate_params_dict,\n",
    "    step_params_dict,\n",
    "    calc_energy,\n",
    "    acceptance_proba,\n",
    "    make_agent_info_dict,\n",
    "    update_agent_info,\n",
    ")\n",
    "from utilities import markov_update_log, make_configuration_model_graph\n",
    "\n",
    "\n",
    "def run_agent_simulation(N_AGENTS, params_dict):\n",
    "    \"\"\"\n",
    "    Given a number of agents & parameters for constructing the simulation,\n",
    "    run a 100-round simulation of belief updating w/ Bayesian agents.\n",
    "    \n",
    "    Returns info on each agent's parameters, sharing for each agent each round, and centrality info for each agent.\n",
    "    \"\"\"\n",
    "    agents = []\n",
    "\n",
    "    for i in range(N_AGENTS):\n",
    "        agent = misinfoAgent(\n",
    "            agent_id=i,\n",
    "            neighbors={},\n",
    "            forcefulness=np.log(\n",
    "                np.random.beta(params_dict[\"B1_START_FO\"], params_dict[\"B2_START_FO\"])\n",
    "            ),\n",
    "            share_propensity=np.log(\n",
    "                np.random.beta(params_dict[\"B1_START_SP\"], params_dict[\"B2_START_SP\"])\n",
    "            ),\n",
    "            misinfo_belief=np.log(\n",
    "                np.random.beta(params_dict[\"B1_START_MB\"], params_dict[\"B2_START_MB\"])\n",
    "            ),\n",
    "            trust_stability=np.log(\n",
    "                np.random.beta(params_dict[\"B1_START_TS\"], params_dict[\"B2_START_TS\"])\n",
    "            ),\n",
    "        )\n",
    "        agents.append(agent)\n",
    "\n",
    "    # G, agents = make_er_graph(0.05, N_AGENTS, agents)\n",
    "    G, agents = make_configuration_model_graph(N_AGENTS, 2.5, agents, params_dict)\n",
    "    centrality = sorted(\n",
    "        [(k, v) for k, v in nx.closeness_centrality(G).items()], key=lambda b: b[0]\n",
    "    )\n",
    "\n",
    "    centrality = np.array([c[1] for c in centrality]).reshape(-1, 1)\n",
    "    agent_records = {a.agent_id: {} for a in agents}\n",
    "    shares = {a.agent_id: {} for a in agents}\n",
    "\n",
    "    # from multiprocessing import Pool\n",
    "    # pool = Pool(8)\n",
    "\n",
    "    for time_step in range(250):\n",
    "        for agent in agents:\n",
    "            agent_records[agent.agent_id][time_step] = {\n",
    "                \"neighbor_trust\": agent.neighbors,\n",
    "                \"misinfo_belief\": agent.misinfo_belief,\n",
    "                \"share_propensity\": agent.share_propensity,\n",
    "            }\n",
    "\n",
    "        neighbor_beliefs = [\n",
    "            [(i, agents[i].misinfo_belief) for i in agent.neighbors.keys()]\n",
    "            for agent in agents\n",
    "        ]\n",
    "        neighbor_forcefulness = [\n",
    "            [agents[i].forcefulness for i in agent.neighbors.keys()] for agent in agents\n",
    "        ]\n",
    "        agent_info_dicts = [\n",
    "            make_agent_info_dict(a, b, f, params_dict)\n",
    "            for a, b, f in zip(agents, neighbor_beliefs, neighbor_forcefulness)\n",
    "        ]\n",
    "        res = map(update_agent_info, agent_info_dicts)\n",
    "        for r, agent in zip(res, agents):\n",
    "            agent.neighbors = r[\"neighbor_trust\"]\n",
    "            agent.misinfo_belief = r[\"misinfo_belief\"]\n",
    "            agent.share_propensity = r[\"share_propensity\"]\n",
    "            shares[agent.agent_id][time_step] = r[\"shares\"]\n",
    "\n",
    "    return agents, shares, centrality\n",
    "\n",
    "\n",
    "def p_x_y(agents, shares, centrality, alpha):\n",
    "    loss = 0.0\n",
    "    shared = [np.sum([v for v in shares[a.agent_id].values()]) for a in agents]\n",
    "    shared_by_id = [\n",
    "        (a.agent_id, np.sum([v for v in shares[a.agent_id].values()])) for a in agents\n",
    "    ]\n",
    "    shared_by_id = sorted(shared_by_id, key=lambda b: b[0])\n",
    "    shared_by_id = [s[1] for s in shared_by_id]\n",
    "    reg = LinearRegression().fit(centrality, shared)\n",
    "    centrality_to_n_shared_model = reg.coef_[0]\n",
    "    centrality_to_n_shared_real = 0.5\n",
    "    loss += np.abs(centrality_to_n_shared_model - centrality_to_n_shared_real) ** alpha\n",
    "    \n",
    "    \n",
    "    shared_by_top_one_percent_model = np.sum(\n",
    "        sorted(shared)[-int(0.01 * len(shared)) :]\n",
    "    ) / (1 + np.sum(shared))\n",
    "    shared_by_top_one_percent_real = 0.8\n",
    "    loss += np.abs(shared_by_top_one_percent_model - shared_by_top_one_percent_real) ** alpha\n",
    "\n",
    "    \n",
    "    n_shared_per_capita_model = np.sum(shared) / len(agents)\n",
    "    n_shared_per_capita_real = 1.0\n",
    "    loss += np.abs(n_shared_per_capita_model - n_shared_per_capita_real) ** alpha\n",
    "    \n",
    "    return loss / alpha\n",
    "    \n",
    "    \n",
    "def G_func(my_ensemble_P, x):\n",
    "    # make fancier later? right now assumes constant prior (the horror)\n",
    "    constant_proba = np.log(0.1) * 10 + np.log(0.01) * 2\n",
    "    candidates = [np.exp(constant_proba) for tup in my_ensemble_P if tup[1] <= x]\n",
    "    return np.sum(candidates)\n",
    "            \n",
    "\n",
    "N_AGENTS = 100\n",
    "SA_STEPS = 250\n",
    "ALPHA = 2.5\n",
    "EPSILON_INIT = 0.5\n",
    "rnd_info = []\n",
    "\n",
    "ensemble_P = []\n",
    "ensemble_E = []\n",
    "\n",
    "while len(ensemble_E) < 100:\n",
    "    if len(ensemble_E) % 5 == 0 and len(ensemble_E) != 0:\n",
    "        print(len(ensemble_E))\n",
    "    params_dict = generate_params_dict()\n",
    "    agents, shares, centrality = run_agent_simulation(N_AGENTS, params_dict)\n",
    "    tup = (params_dict, p_x_y(agents, shares, centrality, ALPHA))\n",
    "    proba_p = np.exp(-1.0 * tup[1]/ EPSILON_INIT)\n",
    "    draw = np.random.uniform()\n",
    "    if draw < proba_p:\n",
    "        ensemble_E.append(tup)\n",
    "    ensemble_P.append(tup)\n",
    "    \n",
    "G_result = [G_func(ensemble_P, tup[1]) for tup in ensemble_P]\n",
    "ensemble_E = [(tup[0], G_func(ensemble_P, tup[1])) for tup in ensemble_E]\n",
    "U = np.mean(G_result)\n",
    "EPSILON = EPSILON_INIT\n",
    "t = 0\n",
    "\n",
    "while True:\n",
    "    chosen_one = random.choice(ensemble_E)   \n",
    "    proposal = generate_params_dict()\n",
    "    agents, shares, centrality = run_agent_simulation(N_AGENTS, params_dict)\n",
    "    proba_star = p_x_y(agents, shares, centrality, ALPHA)\n",
    "    u_star = G_func(ensemble_P, proba_star)\n",
    "    swapped = 0\n",
    "    for idx, particle, u in enumerate(ensemble_E):\n",
    "        proba_swap = min(1.0, np.exp(-1.0 * (u_star - u)) / np.exp(EPSILON))\n",
    "        if np.random.uniform() < proba_swap:\n",
    "            swapped += 1\n",
    "            ensemble_E[idx] = (proposal, u_star)\n",
    "    EPSILON = t ** (-4.0 / 3.0)\n",
    "    t += 1\n",
    "    if swapped < 5:\n",
    "        break"
   ]
  },
  {
   "cell_type": "code",
   "execution_count": 266,
   "id": "40144c86",
   "metadata": {},
   "outputs": [
    {
     "data": {
      "text/plain": [
       "(array([90.,  0.,  0.,  0.,  0.,  0.,  0.,  0.,  0., 10.]),\n",
       " array([0. , 0.1, 0.2, 0.3, 0.4, 0.5, 0.6, 0.7, 0.8, 0.9, 1. ]),\n",
       " <BarContainer object of 10 artists>)"
      ]
     },
     "execution_count": 266,
     "metadata": {},
     "output_type": "execute_result"
    },
    {
     "data": {
      "image/png": "[encoded data removed]",
      "text/plain": [
       "<Figure size 432x288 with 1 Axes>"
      ]
     },
     "metadata": {
      "needs_background": "light"
     },
     "output_type": "display_data"
    }
   ],
   "source": [
    "import matplotlib.pyplot as plt\n",
    "agents, shares, centrality = run_agent_simulation(N_AGENTS, params_dict)\n",
    "\n",
    "share_counts = [np.sum([v for v in v.values()]) for v in shares.values()]\n",
    "plt.hist(share_counts)"
   ]
  },
  {
   "cell_type": "code",
   "execution_count": 4,
   "id": "20b1f789",
   "metadata": {},
   "outputs": [],
   "source": [
    "import scipy.stats\n",
    "lower = 0\n",
    "upper = 1\n",
    "mu = 0.5\n",
    "sigma = 0.1\n",
    "N = 100000\n",
    "\n",
    "def truncated_normal():\n",
    "    return scipy.stats.truncnorm.rvs(\n",
    "          (lower-mu)/sigma,(upper-mu)/sigma,loc=mu,scale=sigma)"
   ]
  },
  {
   "cell_type": "code",
   "execution_count": 46,
   "id": "75151811",
   "metadata": {},
   "outputs": [
    {
     "data": {
      "text/plain": [
       "{'B1_NTRUST': 4,\n",
       " 'B2_NTRUST': 8,\n",
       " 'B1_START_MB': 5,\n",
       " 'B2_START_MB': 2,\n",
       " 'B1_START_FO': 10,\n",
       " 'B2_START_FO': 10,\n",
       " 'B1_START_SP': 3,\n",
       " 'B2_START_SP': 5,\n",
       " 'B1_START_TS': 10,\n",
       " 'B2_START_TS': 9,\n",
       " 'NTRUST_THRESHOLD': 0.41937188649018664,\n",
       " 'SP_THRESHOLD': 0.46966543126877486}"
      ]
     },
     "execution_count": 46,
     "metadata": {},
     "output_type": "execute_result"
    }
   ],
   "source": [
    "%matplotlib inline\n",
    "import matplotlib.pyplot as plt\n",
    "import pickle\n",
    "\n",
    "d = pickle.load(open('rnd_info_30.pkl', 'rb'))\n",
    "d[0]['params_dict']"
   ]
  },
  {
   "cell_type": "code",
   "execution_count": 52,
   "id": "0d737ec1",
   "metadata": {},
   "outputs": [
    {
     "data": {
      "image/png": "[encoded data removed]",
      "text/plain": [
       "<Figure size 432x288 with 2 Axes>"
      ]
     },
     "metadata": {
      "needs_background": "light"
     },
     "output_type": "display_data"
    }
   ],
   "source": [
    "import numpy as np\n",
    "import collections\n",
    "import seaborn as sns\n",
    "d = pickle.load(open('rnd_info_30.pkl', 'rb'))\n",
    "spt_th = collections.Counter([str(dd['params_dict']['B1_START_MB']) + '_' + str(dd['params_dict']['B2_START_MB']) for dd in d])\n",
    "a = np.zeros((11, 11))\n",
    "for i in range(11):\n",
    "    for j in range(11):\n",
    "        a[i - 1, j - 1] = spt_th[str(i) + '_' + str(j)] \n",
    "ax = sns.heatmap(a, linewidth=0.5)\n",
    "plt.show()\n"
   ]
  },
  {
   "cell_type": "code",
   "execution_count": 45,
   "id": "33ce8f2b",
   "metadata": {},
   "outputs": [
    {
     "data": {
      "text/plain": [
       "<matplotlib.collections.PathCollection at 0x7f611ee1a8e0>"
      ]
     },
     "execution_count": 45,
     "metadata": {},
     "output_type": "execute_result"
    },
    {
     "data": {
      "image/png": "[encoded data removed]",
      "text/plain": [
       "<Figure size 432x288 with 1 Axes>"
      ]
     },
     "metadata": {
      "needs_background": "light"
     },
     "output_type": "display_data"
    }
   ],
   "source": [
    "import scipy\n",
    "xs = [0.01 * i for i in range(100)]\n",
    "ys = scipy.stats.beta(10, 10).pdf(xs)\n",
    "plt.scatter(xs, ys)"
   ]
  },
  {
   "cell_type": "code",
   "execution_count": 54,
   "id": "ff408a73",
   "metadata": {},
   "outputs": [
    {
     "data": {
      "image/png": "[encoded data removed]",
      "text/plain": [
       "<Figure size 432x288 with 1 Axes>"
      ]
     },
     "metadata": {
      "needs_background": "light"
     },
     "output_type": "display_data"
    }
   ],
   "source": [
    "d = pickle.load(open('rnd_info_30.pkl', 'rb'))\n",
    "spt = [dd['params_dict']['SP_THRESHOLD'] for dd in d]\n",
    "plt.hist(spt)\n",
    "plt.show()"
   ]
  },
  {
   "cell_type": "code",
   "execution_count": 56,
   "id": "ea04eeaf",
   "metadata": {},
   "outputs": [
    {
     "data": {
      "image/png": "[encoded data removed]",
      "text/plain": [
       "<Figure size 432x288 with 1 Axes>"
      ]
     },
     "metadata": {
      "needs_background": "light"
     },
     "output_type": "display_data"
    }
   ],
   "source": [
    "d = pickle.load(open('rnd_info_30.pkl', 'rb'))\n",
    "spt = [dd['params_dict']['NTRUST_THRESHOLD'] for dd in d]\n",
    "plt.hist(spt)\n",
    "plt.show()"
   ]
  },
  {
   "cell_type": "code",
   "execution_count": null,
   "id": "2446a3a1",
   "metadata": {},
   "outputs": [],
   "source": []
  }
 ],
 "metadata": {
  "kernelspec": {
   "display_name": "Python 3 (ipykernel)",
   "language": "python",
   "name": "python3"
  },
  "language_info": {
   "codemirror_mode": {
    "name": "ipython",
    "version": 3
   },
   "file_extension": ".py",
   "mimetype": "text/x-python",
   "name": "python",
   "nbconvert_exporter": "python",
   "pygments_lexer": "ipython3",
   "version": "3.8.10"
  }
 },
 "nbformat": 4,
 "nbformat_minor": 5
}
